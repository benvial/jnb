{
 "cells": [
  {
   "cell_type": "markdown",
   "metadata": {
    "slideshow": {
     "slide_type": "notes"
    }
   },
   "source": [
    "\n",
    "$\n",
    "\\newcommand\\bra[1]{\\left| #1\\right\\rangle}\n",
    "\\newcommand\\ket[1]{\\left\\langle #1\\right| }\n",
    "\\newcommand\\bell{\\frac{1}{\\sqrt{2}} \\big( \\bra{00} +\\bra{11} \\big) }\n",
    "$\n"
   ]
  },
  {
   "cell_type": "markdown",
   "metadata": {
    "slideshow": {
     "slide_type": "slide"
    }
   },
   "source": [
    "<p>&nbsp;</p>\n",
    "<h1><span style=\"color: #0d3273;\"><strong>Entanglement and&nbsp;circuits</strong></span></h1>\n",
    "<p>&nbsp;</p>\n",
    "<h3>Benjamin Vial</h3>\n",
    "<h4><span style=\"color: #808080;\">Queen Mary, University of London</span></h4>\n",
    "<p><span style=\"color: #808080;\">ECS7011P - Quantum Programming</span></p>\n",
    "<p><span style=\"color: #808080;\">19/02/2020</span></p>\n",
    "<hr />\n",
    "<img src=\"https://www.qmul.ac.uk/qm-resources/logos/QM144BlueOnLight.gif\" alt=\"\" style=\"align:right!important; width:20%;\"/>"
   ]
  },
  {
   "cell_type": "markdown",
   "metadata": {
    "slideshow": {
     "slide_type": "slide"
    }
   },
   "source": [
    "## Set a qubit to a classical state"
   ]
  },
  {
   "cell_type": "code",
   "execution_count": 1,
   "metadata": {
    "slideshow": {
     "slide_type": "fragment"
    }
   },
   "outputs": [
    {
     "data": {
      "application/json": "[\"Set\"]",
      "text/html": [
       "<ul><li>Set</li></ul>"
      ],
      "text/plain": [
       "Set"
      ]
     },
     "execution_count": 1,
     "metadata": {},
     "output_type": "execute_result"
    }
   ],
   "source": [
    "    operation Set(desired : Result, q1 : Qubit) : Unit {\n",
    "        if (desired != M(q1)) { // measurement on the qubit using the operation M\n",
    "            X(q1);              // flip the qbit using the X gate\n",
    "        }\n",
    "    }"
   ]
  },
  {
   "cell_type": "markdown",
   "metadata": {
    "slideshow": {
     "slide_type": "fragment"
    }
   },
   "source": [
    "either returning `Zero` 100% of the time or returning `One` 100% of the time"
   ]
  },
  {
   "cell_type": "code",
   "execution_count": 2,
   "metadata": {
    "slideshow": {
     "slide_type": "slide"
    }
   },
   "outputs": [
    {
     "data": {
      "application/json": "[\"DemoState\"]",
      "text/html": [
       "<ul><li>DemoState</li></ul>"
      ],
      "text/plain": [
       "DemoState"
      ]
     },
     "execution_count": 2,
     "metadata": {},
     "output_type": "execute_result"
    }
   ],
   "source": [
    "operation DemoState(count : Int, initial : Result) : (Int, Int) {\n",
    "\n",
    "    mutable numOnes = 0; // Initialize\n",
    "    using (qubit = Qubit()) {\n",
    "\n",
    "        for (test in 1..count) {\n",
    "            Set(initial, qubit);  // Set the qubit to a desired (initial) value\n",
    "            let res = M(qubit);   // measurement\n",
    "            // Count the number of ones we saw:\n",
    "            if (res == One) {\n",
    "                set numOnes += 1;\n",
    "                }\n",
    "        }\n",
    "        Set(Zero, qubit);\n",
    "    }\n",
    "\n",
    "    // Return number of times we saw a |0> and number of times we saw a |1>\n",
    "    return (count-numOnes, numOnes);\n",
    "}"
   ]
  },
  {
   "cell_type": "markdown",
   "metadata": {
    "slideshow": {
     "slide_type": "slide"
    }
   },
   "source": [
    "Let's use those operations in Python using this [Notebook](entanglement_and_circuits_python.ipynb)"
   ]
  },
  {
   "cell_type": "markdown",
   "metadata": {
    "slideshow": {
     "slide_type": "slide"
    }
   },
   "source": [
    "# Entanglement\n",
    "\n",
    "<p><strong>Entanglement</strong> is a property of composite quantum system where the joint state cannot be written as a product of states of its component systems.</p>\n",
    "\n",
    "The quantum state of each particle of the pair or group cannot be described independently of the state of the others, even when the particles are separated by a large distance.\n",
    "\n",
    "They are not individual particles but are an inseparable whole!\n"
   ]
  },
  {
   "cell_type": "markdown",
   "metadata": {
    "slideshow": {
     "slide_type": "subslide"
    }
   },
   "source": [
    "\n",
    "### History\n",
    "- 1935: Einstein, Podolsky and Rosen [EPR paradox](https://en.wikipedia.org/wiki/Einstein%E2%80%93Podolsky%E2%80%93Rosen_paradox) (\"spooky action at a distance\"). QM is incomplete and therefore there must be \"hidden variables\".\n",
    "- 1964: Bell proves theoretically that the assumption of local realism is inconsistent with QM. [Bell's ineqalities](https://en.wikipedia.org/wiki/Bell%27s_theorem) are experimentally testable.\n",
    "- subsequent [experimental verifications](https://en.wikipedia.org/wiki/Bell_test_experiments): Freedman and Clauser (1972), Aspect et al. (1982), ...\n",
    "\n"
   ]
  },
  {
   "cell_type": "markdown",
   "metadata": {
    "slideshow": {
     "slide_type": "subslide"
    }
   },
   "source": [
    "\n",
    "### Definition\n",
    "Consider two noninteracting systems $A$ and $B$, with respective Hilbert spaces $H_A$ and $H_B$. The Hilbert space of the composite system is the tensor product $H_A\\otimes H_B$\n",
    "\n",
    "If the first system is in state $\\bra{\\psi}_A$ and the second in state $\\bra{\\phi}_B$, the state of the composite system is\n",
    "$\\bra{\\psi}_A \\otimes \\bra{\\phi}_B$.\n",
    "\n",
    "States of the composite system which can be represented in this form are called <em>separable states</em>, or (in the simplest case) product states</em>."
   ]
  },
  {
   "cell_type": "markdown",
   "metadata": {
    "slideshow": {
     "slide_type": "subslide"
    }
   },
   "source": [
    "\n",
    "Not all states are separable states (and thus product states).\n",
    "\n",
    "Fix a basis $\\bra{i}_A$ for and $H_A$ a basis $\\bra{j}_B$ for and $H_B$. The most general state in $H_A\\otimes H_B$ is of the form:\n",
    "\n",
    "$$\n",
    "\\bra{\\psi}_{AB} = \\sum_{i,j} c_{ij} \\,\\bra{i}_A \\otimes \\bra{j}_B\n",
    "$$\n",
    "\n",
    "This state is separable if there exist $c_i^A$, $c_j^B$ so that $c_{ij}= c_i^A c_j^B$ yielding\n",
    "$\\bra{\\psi}_{A} = \\sum_i c_i^A \\,\\bra{i}_A$ and \n",
    "$\\bra{\\phi}_{B} = \\sum_j c_j^B \\,\\bra{j}_B$\n",
    "\n",
    "\n",
    "It is inseparable if for all $c_i^A$, $c_j^B$ we have $c_{ij} \\neq c_i^A c_j^B$.\n",
    "If a state is inseparable, it is called an <em>entangled state</em>."
   ]
  },
  {
   "cell_type": "markdown",
   "metadata": {
    "slideshow": {
     "slide_type": "slide"
    }
   },
   "source": [
    "## Bell states (aka  EPR pair)\n",
    "Maximally entangled quantum state of two qubits\n",
    "\n",
    "\n",
    "$$\n",
    "\\bra{\\Phi^+} = \\frac{1}{\\sqrt{2}} \\big( \\bra{00} +\\bra{11} \\big)\\\\\n",
    "\\bra{\\Phi^-} = \\frac{1}{\\sqrt{2}} \\big( \\bra{00} -\\bra{11} \\big)\\\\\n",
    "\\bra{\\Psi^+} = \\frac{1}{\\sqrt{2}} \\big( \\bra{01} +\\bra{10} \\big)\\\\\n",
    "\\bra{\\Psi^-} = \\frac{1}{\\sqrt{2}} \\big( \\bra{01} -\\bra{10} \\big)\n",
    "$$\n",
    "\n",
    "They cannot be product states because there are no cross terms."
   ]
  },
  {
   "cell_type": "markdown",
   "metadata": {
    "slideshow": {
     "slide_type": "slide"
    }
   },
   "source": [
    "## Preparing entanglement"
   ]
  },
  {
   "cell_type": "code",
   "execution_count": 3,
   "metadata": {
    "slideshow": {
     "slide_type": "subslide"
    }
   },
   "outputs": [
    {
     "data": {
      "application/json": "[\"BellState\"]",
      "text/html": [
       "<ul><li>BellState</li></ul>"
      ],
      "text/plain": [
       "BellState"
      ]
     },
     "execution_count": 3,
     "metadata": {},
     "output_type": "execute_result"
    }
   ],
   "source": [
    "  operation BellState(count : Int, initial : Result) : (Int, Int, Int) {\n",
    "\n",
    "    mutable numOnes = 0; mutable agree = 0;\n",
    "    using ((q0, q1) = (Qubit(), Qubit())) {\n",
    "        for (test in 1..count) {\n",
    "            Set (initial, q0); Set (Zero, q1);\n",
    "            H(q0); // apply Hadamard gate\n",
    "            CNOT(q0,q1); // apply CNOT\n",
    "            let res = M(q0);\n",
    "            if (M(q1) == res) {\n",
    "                set agree += 1;\n",
    "            }\n",
    "            // Count the number of ones we saw:\n",
    "            if (res == One) {\n",
    "                set numOnes += 1;\n",
    "            }\n",
    "        }\n",
    "        Set(Zero, q0); Set(Zero, q1);\n",
    "    }\n",
    "    // Return number of times we saw a |0> and number of times we saw a |1> and when the 2 measurements agree\n",
    "    return (count-numOnes, numOnes, agree);\n",
    "}"
   ]
  },
  {
   "cell_type": "markdown",
   "metadata": {
    "slideshow": {
     "slide_type": "slide"
    }
   },
   "source": [
    "## Quantum circuits simulator\n",
    "\n",
    "<a href=\"http://algassert.com/quirk\">Quirk <img src=\"https://raw.githubusercontent.com/Strilanc/Quirk/master/doc/favicon.ico\" alt=\"Icon\" title=\"Icon\" /></a>\n",
    "\n",
    "https://algassert.com/quirk"
   ]
  },
  {
   "cell_type": "markdown",
   "metadata": {
    "slideshow": {
     "slide_type": "subslide"
    }
   },
   "source": [
    "### CNOT gate\n",
    "![quirk](https://cnot.io/quantum_computing/img/fig26.png)"
   ]
  },
  {
   "cell_type": "markdown",
   "metadata": {
    "slideshow": {
     "slide_type": "fragment"
    }
   },
   "source": [
    "![quirk](https://cnot.io/quantum_computing/img/fig27.png)"
   ]
  },
  {
   "cell_type": "markdown",
   "metadata": {
    "slideshow": {
     "slide_type": "subslide"
    }
   },
   "source": [
    "### Basic Superposition\n",
    "\n",
    "Hadamard gate\n",
    "![](https://cnot.io/quantum_computing/img/fig28.png)\n",
    "\n",
    "Adding a Z gate\n",
    "\n",
    "![](https://cnot.io/quantum_computing/img/fig29.png)\n"
   ]
  },
  {
   "cell_type": "markdown",
   "metadata": {
    "slideshow": {
     "slide_type": "subslide"
    }
   },
   "source": [
    "### Entanglement\n",
    "\n",
    "Lets create a Bell state as we saw in the previous section\n",
    "\n",
    "![](https://cnot.io/quantum_computing/img/fig30.png)\n",
    "\n",
    "<a href=\"http://algassert.com/quirk\">Quirk <img src=\"https://raw.githubusercontent.com/Strilanc/Quirk/master/doc/favicon.ico\" alt=\"Icon\" title=\"Icon\" /></a>"
   ]
  }
 ],
 "metadata": {
  "celltoolbar": "Slideshow",
  "kernelspec": {
   "display_name": "Q#",
   "language": "qsharp",
   "name": "iqsharp"
  },
  "language_info": {
   "file_extension": ".qs",
   "mimetype": "text/x-qsharp",
   "name": "qsharp",
   "version": "0.4"
  }
 },
 "nbformat": 4,
 "nbformat_minor": 4
}
