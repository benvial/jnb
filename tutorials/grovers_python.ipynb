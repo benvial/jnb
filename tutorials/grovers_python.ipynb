{
 "cells": [
  {
   "cell_type": "markdown",
   "metadata": {
    "slideshow": {
     "slide_type": "slide"
    }
   },
   "source": [
    "<p>&nbsp;</p>\n",
    "<h1><span style=\"color: #0d3273;\"><strong>Entanglement and&nbsp;circuits</strong></span></h1>\n",
    "<p>&nbsp;</p>\n",
    "<h3>Benjamin Vial</h3>\n",
    "<h4><span style=\"color: #808080;\">Queen Mary, University of London</span></h4>\n",
    "<p><span style=\"color: #808080;\">ECS7011P - Quantum Programming</span></p>\n",
    "<p><span style=\"color: #808080;\">19/02/2020</span></p>\n",
    "<hr />\n",
    "<img src=\"https://www.qmul.ac.uk/qm-resources/logos/QM144BlueOnLight.gif\" alt=\"\" style=\"align:right!important; width:20%;\"/>"
   ]
  },
  {
   "cell_type": "markdown",
   "metadata": {
    "slideshow": {
     "slide_type": "slide"
    }
   },
   "source": [
    "# Outline\n",
    "\n",
    "Here we will quickly describe Grover’s algorithm in a high-level way.\n",
    "\n",
    "The first step of the algorithm is to initialise the starting state |s⟩, a superposition of all possible inputs. We know this can be easily accomplished using a Hadamard transform on each qubit.\n",
    "![The intital state is an equal superposition of all measureable inputs, and is easily constructed from Hadamard transforms.](https://cnot.io/quantum_algorithms/grover/img/fig4.png)\n",
    "\n"
   ]
  },
  {
   "cell_type": "markdown",
   "metadata": {
    "slideshow": {
     "slide_type": "slide"
    }
   },
   "source": [
    "<!-- ![quirk](https://cnot.io/quantum_computing/img/fig26.png) -->\n",
    "\n",
    "Since we want our algorithm to output ω, we want our qubits to be as close to the state |ω⟩ as possible when we measure them. The algorithm is tasked with moving the state of the qubits from |s⟩ to |ω⟩. To simplify, we can split every state in our computation into one of two categories: |ω⟩ and not |ω⟩. Since we only care about |ω⟩ and all the states that are not |ω⟩, we can plot this on a 2D graph:\n",
    "\n",
    "![Our qubits start in the state |s⟩, and we are trying to get to |ω⟩](https://cnot.io/quantum_algorithms/grover/img/fig5.png)\n"
   ]
  },
  {
   "cell_type": "markdown",
   "metadata": {
    "slideshow": {
     "slide_type": "slide"
    }
   },
   "source": [
    "\n",
    "Where |s’⟩ is the equal superposition of all states excluding |ω⟩. This means |s’⟩ is perpendicular to |ω⟩. Our computer is never actually in the state |s’⟩ (if it is then we’re doing something very wrong!), we just use |s’⟩ to act as the axis on our graph, and to illustrate the reflections we are doing.\n",
    "\n",
    "We perform a reflection around |s’⟩ (this operator is called ‘Uω’) and a reflection around |s⟩ (called ‘Us’), and repeat until we are close to |ω⟩. This takes   ~2n/2 repetitions.\n"
   ]
  },
  {
   "cell_type": "markdown",
   "metadata": {
    "slideshow": {
     "slide_type": "subslide"
    }
   },
   "source": [
    "\n",
    "\n",
    "![The first step of Grover's algorithm is to give a negative phase to the |ω⟩ component of |s⟩, this corresponds to a reflection through |s'⟩. The second step is to perform a reflection through |s⟩](https://cnot.io/quantum_algorithms/grover/img/fig6.png)\n",
    "\n",
    "\n"
   ]
  },
  {
   "cell_type": "markdown",
   "metadata": {
    "slideshow": {
     "slide_type": "slide"
    }
   },
   "source": [
    "# Implementing Grover's Algorithm as a Quantum Circuit\n",
    "\n",
    "Here we will go through each step and show how they can be performed by a universal quantum computer. The first step, initialising the state |s⟩ is very simple: We do a Hadamard transform (H-gate) on each qubit, this gives us a uniform superposition of every state.\n",
    "\n",
    "![We need to set up our initial superposition, |s⟩. To do this we apply a H-gate to each qubit](https://cnot.io/quantum_algorithms/grover/img/fig92.png)\n",
    "\n"
   ]
  }
 ],
 "metadata": {
  "celltoolbar": "Slideshow",
  "kernelspec": {
   "display_name": "Python 3",
   "language": "python",
   "name": "python3"
  },
  "language_info": {
   "codemirror_mode": {
    "name": "ipython",
    "version": 3
   },
   "file_extension": ".py",
   "mimetype": "text/x-python",
   "name": "python",
   "nbconvert_exporter": "python",
   "pygments_lexer": "ipython3",
   "version": "3.7.4"
  }
 },
 "nbformat": 4,
 "nbformat_minor": 4
}
